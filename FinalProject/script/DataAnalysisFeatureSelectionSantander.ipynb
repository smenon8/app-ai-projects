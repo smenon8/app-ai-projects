{
 "cells": [
  {
   "cell_type": "markdown",
   "metadata": {
    "collapsed": true
   },
   "source": [
    "<b>Applied AI :</b>  San-Ander Bank Customer Satisfaction <br>\n",
    "<b>Number of Input attributes :</b>  370 <br>\n",
    "<b>Output attribute name : </b> TARGET <br>\n",
    "<b>Author:</b>  Sreejith Menon <br>\n",
    "<b>Date: </b> 03rd April 2016 <br>\n",
    "\n",
    "Applying feature selection before building a neural net:\n",
    "http://www3.it.nuigalway.ie/cirg/localpubs/aics01.pdf"
   ]
  },
  {
   "cell_type": "code",
   "execution_count": 2,
   "metadata": {
    "collapsed": false
   },
   "outputs": [
    {
     "data": {
      "text/plain": [
       "<module 'FeatureSelectionAPI' from '/Users/sreejithmenon/Google Drive/CS material/Applied AI CS 514/app-ai-projects/FinalProject/script/FeatureSelectionAPI.py'>"
      ]
     },
     "execution_count": 2,
     "metadata": {},
     "output_type": "execute_result"
    }
   ],
   "source": [
    "import csv\n",
    "import pandas as pd\n",
    "import math\n",
    "import importlib\n",
    "import FeatureSelectionAPI as FS\n",
    "importlib.reload(FS) # uncomment if any changes are made to the API"
   ]
  },
  {
   "cell_type": "code",
   "execution_count": 3,
   "metadata": {
    "collapsed": false,
    "scrolled": true
   },
   "outputs": [
    {
     "name": "stdout",
     "output_type": "stream",
     "text": [
      "Wrote 25000 samples from ../data/train.csv to ../data/trainToy.csv\n",
      "Has 371 attributes\n"
     ]
    }
   ],
   "source": [
    "# create sample toy training file with rows number of rows\n",
    "def createToyFile(inFileName,outFileName,sampleSize):\n",
    "    reader = csv.reader(open(inFileName,\"r\"))\n",
    "    head = reader.__next__()\n",
    "\n",
    "    data = []\n",
    "    i = 1\n",
    "    for row in reader:\n",
    "        data.append(row)\n",
    "        if i >= sampleSize:\n",
    "            break\n",
    "        i += 1\n",
    "\n",
    "    writeFL = open(outFileName,\"w\")\n",
    "    writer = csv.writer(writeFL)\n",
    "    writer.writerow(head)\n",
    "    for row in data:\n",
    "        writer.writerow(row)\n",
    "    writeFL.close()\n",
    "    \n",
    "    print(\"Wrote %d samples from \"  %i + inFileName + \" to \" + outFileName)\n",
    "    print(\"Has %d attributes\" %len(head))\n",
    "\n",
    "createToyFile(\"../data/train.csv\",\"../data/trainToy.csv\",25000)"
   ]
  },
  {
   "cell_type": "code",
   "execution_count": 4,
   "metadata": {
    "collapsed": false
   },
   "outputs": [],
   "source": [
    "# Read the training data into a Panda data frame    \n",
    "train = pd.read_csv(\"../data/trainToy.csv\")"
   ]
  },
  {
   "cell_type": "code",
   "execution_count": 5,
   "metadata": {
    "collapsed": true
   },
   "outputs": [],
   "source": [
    "def getNextColumnPd(pandaObj,head):\n",
    "    for attrib in head:\n",
    "        yield pandaObj[attrib]"
   ]
  },
  {
   "cell_type": "code",
   "execution_count": 6,
   "metadata": {
    "collapsed": false
   },
   "outputs": [
    {
     "name": "stdout",
     "output_type": "stream",
     "text": [
      "Percent complete 0.269542\n",
      "Percent complete 0.539084\n",
      "Percent complete 0.808625\n",
      "Percent complete 1.078167\n",
      "Percent complete 1.347709\n",
      "Percent complete 1.617251\n",
      "Percent complete 1.886792\n",
      "Percent complete 2.156334\n",
      "Percent complete 2.425876\n",
      "Percent complete 2.695418\n",
      "Percent complete 2.964960\n",
      "Percent complete 3.234501\n",
      "Percent complete 3.504043\n",
      "Percent complete 3.773585\n",
      "Percent complete 4.043127\n",
      "Percent complete 4.312668\n",
      "Percent complete 4.582210\n",
      "Percent complete 4.851752\n",
      "Percent complete 5.121294\n",
      "Percent complete 5.390836\n",
      "Percent complete 5.660377\n",
      "Percent complete 5.929919\n",
      "Percent complete 6.199461\n",
      "Percent complete 6.469003\n",
      "Percent complete 6.738544\n",
      "Percent complete 7.008086\n",
      "Percent complete 7.277628\n",
      "Percent complete 7.547170\n",
      "Percent complete 7.816712\n",
      "Percent complete 8.086253\n",
      "Percent complete 8.355795\n",
      "Percent complete 8.625337\n",
      "Percent complete 8.894879\n",
      "Percent complete 9.164420\n",
      "Percent complete 9.433962\n",
      "Percent complete 9.703504\n",
      "Percent complete 9.973046\n",
      "Percent complete 10.242588\n",
      "Percent complete 10.512129\n",
      "Percent complete 10.781671\n",
      "Percent complete 11.051213\n",
      "Percent complete 11.320755\n",
      "Percent complete 11.590296\n",
      "Percent complete 11.859838\n",
      "Percent complete 12.129380\n",
      "Percent complete 12.398922\n",
      "Percent complete 12.668464\n",
      "Percent complete 12.938005\n",
      "Percent complete 13.207547\n",
      "Percent complete 13.477089\n",
      "Percent complete 13.746631\n",
      "Percent complete 14.016173\n",
      "Percent complete 14.285714\n",
      "Percent complete 14.555256\n",
      "Percent complete 14.824798\n",
      "Percent complete 15.094340\n",
      "Percent complete 15.363881\n",
      "Percent complete 15.633423\n",
      "Percent complete 15.902965\n",
      "Percent complete 16.172507\n",
      "Percent complete 16.442049\n",
      "Percent complete 16.711590\n",
      "Percent complete 16.981132\n",
      "Percent complete 17.250674\n",
      "Percent complete 17.520216\n",
      "Percent complete 17.789757\n",
      "Percent complete 18.059299\n",
      "Percent complete 18.328841\n",
      "Percent complete 18.598383\n",
      "Percent complete 18.867925\n",
      "Percent complete 19.137466\n",
      "Percent complete 19.407008\n",
      "Percent complete 19.676550\n",
      "Percent complete 19.946092\n",
      "Percent complete 20.215633\n",
      "Percent complete 20.485175\n",
      "Percent complete 20.754717\n",
      "Percent complete 21.024259\n",
      "Percent complete 21.293801\n",
      "Percent complete 21.563342\n",
      "Percent complete 21.832884\n",
      "Percent complete 22.102426\n",
      "Percent complete 22.371968\n",
      "Percent complete 22.641509\n",
      "Percent complete 22.911051\n",
      "Percent complete 23.180593\n",
      "Percent complete 23.450135\n",
      "Percent complete 23.719677\n",
      "Percent complete 23.989218\n",
      "Percent complete 24.258760\n",
      "Percent complete 24.528302\n",
      "Percent complete 24.797844\n",
      "Percent complete 25.067385\n",
      "Percent complete 25.336927\n",
      "Percent complete 25.606469\n",
      "Percent complete 25.876011\n",
      "Percent complete 26.145553\n",
      "Percent complete 26.415094\n",
      "Percent complete 26.684636\n",
      "Percent complete 26.954178\n",
      "Percent complete 27.223720\n",
      "Percent complete 27.493261\n",
      "Percent complete 27.762803\n",
      "Percent complete 28.032345\n",
      "Percent complete 28.301887\n",
      "Percent complete 28.571429\n",
      "Percent complete 28.840970\n",
      "Percent complete 29.110512\n",
      "Percent complete 29.380054\n",
      "Percent complete 29.649596\n",
      "Percent complete 29.919137\n",
      "Percent complete 30.188679\n",
      "Percent complete 30.458221\n",
      "Percent complete 30.727763\n",
      "Percent complete 30.997305\n",
      "Percent complete 31.266846\n",
      "Percent complete 31.536388\n",
      "Percent complete 31.805930\n",
      "Percent complete 32.075472\n",
      "Percent complete 32.345013\n",
      "Percent complete 32.614555\n",
      "Percent complete 32.884097\n",
      "Percent complete 33.153639\n",
      "Percent complete 33.423181\n",
      "Percent complete 33.692722\n",
      "Percent complete 33.962264\n",
      "Percent complete 34.231806\n",
      "Percent complete 34.501348\n",
      "Percent complete 34.770889\n",
      "Percent complete 35.040431\n",
      "Percent complete 35.309973\n",
      "Percent complete 35.579515\n",
      "Percent complete 35.849057\n",
      "Percent complete 36.118598\n",
      "Percent complete 36.388140\n",
      "Percent complete 36.657682\n",
      "Percent complete 36.927224\n",
      "Percent complete 37.196765\n",
      "Percent complete 37.466307\n",
      "Percent complete 37.735849\n",
      "Percent complete 38.005391\n",
      "Percent complete 38.274933\n",
      "Percent complete 38.544474\n",
      "Percent complete 38.814016\n",
      "Percent complete 39.083558\n",
      "Percent complete 39.353100\n",
      "Percent complete 39.622642\n",
      "Percent complete 39.892183\n",
      "Percent complete 40.161725\n",
      "Percent complete 40.431267\n",
      "Percent complete 40.700809\n",
      "Percent complete 40.970350\n",
      "Percent complete 41.239892\n",
      "Percent complete 41.509434\n",
      "Percent complete 41.778976\n",
      "Percent complete 42.048518\n",
      "Percent complete 42.318059\n",
      "Percent complete 42.587601\n",
      "Percent complete 42.857143\n",
      "Percent complete 43.126685\n",
      "Percent complete 43.396226\n",
      "Percent complete 43.665768\n",
      "Percent complete 43.935310\n",
      "Percent complete 44.204852\n",
      "Percent complete 44.474394\n",
      "Percent complete 44.743935\n",
      "Percent complete 45.013477\n",
      "Percent complete 45.283019\n",
      "Percent complete 45.552561\n",
      "Percent complete 45.822102\n",
      "Percent complete 46.091644\n",
      "Percent complete 46.361186\n",
      "Percent complete 46.630728\n",
      "Percent complete 46.900270\n",
      "Percent complete 47.169811\n",
      "Percent complete 47.439353\n",
      "Percent complete 47.708895\n",
      "Percent complete 47.978437\n",
      "Percent complete 48.247978\n",
      "Percent complete 48.517520\n",
      "Percent complete 48.787062\n",
      "Percent complete 49.056604\n",
      "Percent complete 49.326146\n",
      "Percent complete 49.595687\n",
      "Percent complete 49.865229\n",
      "Percent complete 50.134771\n",
      "Percent complete 50.404313\n",
      "Percent complete 50.673854\n",
      "Percent complete 50.943396\n",
      "Percent complete 51.212938\n",
      "Percent complete 51.482480\n",
      "Percent complete 51.752022\n",
      "Percent complete 52.021563\n",
      "Percent complete 52.291105\n",
      "Percent complete 52.560647\n",
      "Percent complete 52.830189\n",
      "Percent complete 53.099730\n",
      "Percent complete 53.369272\n",
      "Percent complete 53.638814\n",
      "Percent complete 53.908356\n",
      "Percent complete 54.177898\n",
      "Percent complete 54.447439\n",
      "Percent complete 54.716981\n",
      "Percent complete 54.986523\n",
      "Percent complete 55.256065\n",
      "Percent complete 55.525606\n",
      "Percent complete 55.795148\n",
      "Percent complete 56.064690\n",
      "Percent complete 56.334232\n",
      "Percent complete 56.603774\n",
      "Percent complete 56.873315\n",
      "Percent complete 57.142857\n",
      "Percent complete 57.412399\n",
      "Percent complete 57.681941\n",
      "Percent complete 57.951482\n",
      "Percent complete 58.221024\n",
      "Percent complete 58.490566\n",
      "Percent complete 58.760108\n",
      "Percent complete 59.029650\n",
      "Percent complete 59.299191\n",
      "Percent complete 59.568733\n",
      "Percent complete 59.838275\n",
      "Percent complete 60.107817\n",
      "Percent complete 60.377358\n",
      "Percent complete 60.646900\n",
      "Percent complete 60.916442\n",
      "Percent complete 61.185984\n",
      "Percent complete 61.455526\n",
      "Percent complete 61.725067\n",
      "Percent complete 61.994609\n",
      "Percent complete 62.264151\n",
      "Percent complete 62.533693\n",
      "Percent complete 62.803235\n",
      "Percent complete 63.072776\n",
      "Percent complete 63.342318\n",
      "Percent complete 63.611860\n",
      "Percent complete 63.881402\n",
      "Percent complete 64.150943\n",
      "Percent complete 64.420485\n",
      "Percent complete 64.690027\n",
      "Percent complete 64.959569\n",
      "Percent complete 65.229111\n",
      "Percent complete 65.498652\n",
      "Percent complete 65.768194\n",
      "Percent complete 66.037736\n",
      "Percent complete 66.307278\n",
      "Percent complete 66.576819\n",
      "Percent complete 66.846361\n",
      "Percent complete 67.115903\n",
      "Percent complete 67.385445\n",
      "Percent complete 67.654987\n",
      "Percent complete 67.924528\n",
      "Percent complete 68.194070\n",
      "Percent complete 68.463612\n",
      "Percent complete 68.733154\n",
      "Percent complete 69.002695\n",
      "Percent complete 69.272237\n",
      "Percent complete 69.541779\n",
      "Percent complete 69.811321\n",
      "Percent complete 70.080863\n",
      "Percent complete 70.350404\n",
      "Percent complete 70.619946\n",
      "Percent complete 70.889488\n",
      "Percent complete 71.159030\n",
      "Percent complete 71.428571\n",
      "Percent complete 71.698113\n",
      "Percent complete 71.967655\n",
      "Percent complete 72.237197\n",
      "Percent complete 72.506739\n",
      "Percent complete 72.776280\n",
      "Percent complete 73.045822\n",
      "Percent complete 73.315364\n",
      "Percent complete 73.584906\n",
      "Percent complete 73.854447\n",
      "Percent complete 74.123989\n",
      "Percent complete 74.393531\n",
      "Percent complete 74.663073\n",
      "Percent complete 74.932615\n",
      "Percent complete 75.202156\n",
      "Percent complete 75.471698\n",
      "Percent complete 75.741240\n",
      "Percent complete 76.010782\n",
      "Percent complete 76.280323\n",
      "Percent complete 76.549865\n",
      "Percent complete 76.819407\n",
      "Percent complete 77.088949\n",
      "Percent complete 77.358491\n",
      "Percent complete 77.628032\n",
      "Percent complete 77.897574\n",
      "Percent complete 78.167116\n",
      "Percent complete 78.436658\n",
      "Percent complete 78.706199\n",
      "Percent complete 78.975741\n",
      "Percent complete 79.245283\n",
      "Percent complete 79.514825\n",
      "Percent complete 79.784367\n",
      "Percent complete 80.053908\n",
      "Percent complete 80.323450\n",
      "Percent complete 80.592992\n",
      "Percent complete 80.862534\n",
      "Percent complete 81.132075\n",
      "Percent complete 81.401617\n",
      "Percent complete 81.671159\n",
      "Percent complete 81.940701\n",
      "Percent complete 82.210243\n",
      "Percent complete 82.479784\n",
      "Percent complete 82.749326\n",
      "Percent complete 83.018868\n",
      "Percent complete 83.288410\n",
      "Percent complete 83.557951\n",
      "Percent complete 83.827493\n",
      "Percent complete 84.097035\n",
      "Percent complete 84.366577\n",
      "Percent complete 84.636119\n",
      "Percent complete 84.905660\n",
      "Percent complete 85.175202\n",
      "Percent complete 85.444744\n",
      "Percent complete 85.714286\n",
      "Percent complete 85.983827\n",
      "Percent complete 86.253369\n",
      "Percent complete 86.522911\n",
      "Percent complete 86.792453\n",
      "Percent complete 87.061995\n",
      "Percent complete 87.331536\n",
      "Percent complete 87.601078\n",
      "Percent complete 87.870620\n",
      "Percent complete 88.140162\n",
      "Percent complete 88.409704\n",
      "Percent complete 88.679245\n",
      "Percent complete 88.948787\n",
      "Percent complete 89.218329\n",
      "Percent complete 89.487871\n",
      "Percent complete 89.757412\n",
      "Percent complete 90.026954\n",
      "Percent complete 90.296496\n",
      "Percent complete 90.566038\n",
      "Percent complete 90.835580\n",
      "Percent complete 91.105121\n",
      "Percent complete 91.374663\n",
      "Percent complete 91.644205\n",
      "Percent complete 91.913747\n",
      "Percent complete 92.183288\n",
      "Percent complete 92.452830\n",
      "Percent complete 92.722372\n",
      "Percent complete 92.991914\n",
      "Percent complete 93.261456\n",
      "Percent complete 93.530997\n",
      "Percent complete 93.800539\n",
      "Percent complete 94.070081\n",
      "Percent complete 94.339623\n",
      "Percent complete 94.609164\n",
      "Percent complete 94.878706\n",
      "Percent complete 95.148248\n",
      "Percent complete 95.417790\n",
      "Percent complete 95.687332\n",
      "Percent complete 95.956873\n",
      "Percent complete 96.226415\n",
      "Percent complete 96.495957\n",
      "Percent complete 96.765499\n",
      "Percent complete 97.035040\n",
      "Percent complete 97.304582\n",
      "Percent complete 97.574124\n",
      "Percent complete 97.843666\n",
      "Percent complete 98.113208\n",
      "Percent complete 98.382749\n",
      "Percent complete 98.652291\n",
      "Percent complete 98.921833\n",
      "Percent complete 99.191375\n",
      "Percent complete 99.460916\n",
      "Percent complete 99.730458\n",
      "Percent complete 100.000000\n"
     ]
    }
   ],
   "source": [
    "# Calculate information gain for every column in the data set\n",
    "infoGainPerColn = []\n",
    "count = 0\n",
    "nextCol = getNextColumnPd(train,train.columns)\n",
    "for i in range(len(train.columns)):\n",
    "    infoGainPerColn.append((train.columns[i],FS.infoGain(next(nextCol),train.TARGET)))\n",
    "    count += 1\n",
    "    print(\"Percent complete %f\" %(count*100/len(train.columns)))"
   ]
  },
  {
   "cell_type": "code",
   "execution_count": 7,
   "metadata": {
    "collapsed": false
   },
   "outputs": [],
   "source": [
    "# Calculate the average of the information gains\n",
    "# Filter out all the candidate columns with information gain > avg(info_gain)\n",
    "total = 0\n",
    "count = 0\n",
    "\n",
    "for row in infoGainPerColn:\n",
    "    total += row[1]\n",
    "    count += 1\n",
    "\n",
    "average = total/count\n",
    "\n",
    "infoGainPerColnFilteredGtAvg = list(filter(lambda x: x[1] >= average,(sorted(infoGainPerColn,key = lambda infoGainPerColn:infoGainPerColn[1], reverse=True))))\n",
    "candidateCol = [col[0] for col in infoGainPerColnFilteredGtAvg ]\n",
    "candidateCol.append(candidateCol.pop(1))"
   ]
  },
  {
   "cell_type": "code",
   "execution_count": 8,
   "metadata": {
    "collapsed": false
   },
   "outputs": [],
   "source": [
    "writeFL = open(\"../data/InfoGainPerColumn.csv\",\"w\")\n",
    "writer = csv.writer(writeFL)\n",
    "for row in infoGainPerColnFilteredGtAvg:\n",
    "    writer.writerow(row)\n",
    "writeFL.close()"
   ]
  },
  {
   "cell_type": "code",
   "execution_count": 9,
   "metadata": {
    "collapsed": false
   },
   "outputs": [],
   "source": [
    "trainFull = pd.read_csv(\"../data/train.csv\")\n",
    "dt = pd.DataFrame(trainFull,columns = candidateCol)\n",
    "dt.to_csv(\"../data/filteredData.csv\",index=False)"
   ]
  },
  {
   "cell_type": "code",
   "execution_count": 12,
   "metadata": {
    "collapsed": true
   },
   "outputs": [],
   "source": [
    "test = pd.read_csv(\"../data/test.csv\")\n",
    "df = pd.DataFrame(test,columns = candidateCol)\n",
    "df.to_csv(\"../data/filteredDataTest.csv\",index=False)"
   ]
  },
  {
   "cell_type": "code",
   "execution_count": 11,
   "metadata": {
    "collapsed": false
   },
   "outputs": [
    {
     "data": {
      "text/plain": [
       "45"
      ]
     },
     "execution_count": 11,
     "metadata": {},
     "output_type": "execute_result"
    }
   ],
   "source": [
    "len(candidateCol)"
   ]
  },
  {
   "cell_type": "code",
   "execution_count": 7,
   "metadata": {
    "collapsed": false
   },
   "outputs": [
    {
     "data": {
      "text/plain": [
       "'ID'"
      ]
     },
     "execution_count": 7,
     "metadata": {},
     "output_type": "execute_result"
    }
   ],
   "source": [
    "train.columns[0]"
   ]
  },
  {
   "cell_type": "code",
   "execution_count": 12,
   "metadata": {
    "collapsed": true
   },
   "outputs": [],
   "source": [
    "lst = list(train.columns)"
   ]
  },
  {
   "cell_type": "code",
   "execution_count": 16,
   "metadata": {
    "collapsed": false
   },
   "outputs": [],
   "source": []
  },
  {
   "cell_type": "code",
   "execution_count": null,
   "metadata": {
    "collapsed": true
   },
   "outputs": [],
   "source": []
  }
 ],
 "metadata": {
  "kernelspec": {
   "display_name": "Python 3",
   "language": "python",
   "name": "python3"
  },
  "language_info": {
   "codemirror_mode": {
    "name": "ipython",
    "version": 3
   },
   "file_extension": ".py",
   "mimetype": "text/x-python",
   "name": "python",
   "nbconvert_exporter": "python",
   "pygments_lexer": "ipython3",
   "version": "3.5.1"
  }
 },
 "nbformat": 4,
 "nbformat_minor": 0
}
