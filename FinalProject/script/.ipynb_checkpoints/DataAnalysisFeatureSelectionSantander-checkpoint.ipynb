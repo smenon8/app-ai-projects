{
 "cells": [
  {
   "cell_type": "markdown",
   "metadata": {
    "collapsed": true
   },
   "source": [
    "<b>Applied AI :</b>  San-Ander Bank Customer Satisfaction <br>\n",
    "<b>Number of Input attributes :</b>  370 <br>\n",
    "<b>Output attribute name : </b> TARGET <br>\n",
    "<b>Author:</b>  Sreejith Menon <br>\n",
    "<b>Date: </b> 03rd April 2016 <br>\n",
    "\n",
    "Applying feature selection before building a neural net:\n",
    "http://www3.it.nuigalway.ie/cirg/localpubs/aics01.pdf"
   ]
  },
  {
   "cell_type": "code",
   "execution_count": 2,
   "metadata": {
    "collapsed": false
   },
   "outputs": [
    {
     "data": {
      "text/plain": [
       "<module 'FeatureSelectionAPI' from '/Users/sreejithmenon/Google Drive/CS material/Applied AI CS 514/app-ai-projects/FinalProject/script/FeatureSelectionAPI.py'>"
      ]
     },
     "execution_count": 2,
     "metadata": {},
     "output_type": "execute_result"
    }
   ],
   "source": [
    "import csv\n",
    "import pandas as pd\n",
    "import math\n",
    "import importlib\n",
    "import FeatureSelectionAPI as FS\n",
    "importlib.reload(FS) # uncomment if any changes are made to the API"
   ]
  },
  {
   "cell_type": "code",
   "execution_count": 3,
   "metadata": {
    "collapsed": false,
    "scrolled": true
   },
   "outputs": [
    {
     "name": "stdout",
     "output_type": "stream",
     "text": [
      "Wrote 25000 samples from ../data/train.csv to ../data/trainToy.csv\n",
      "Has 371 attributes\n"
     ]
    }
   ],
   "source": [
    "# create sample toy training file with rows number of rows\n",
    "def createToyFile(inFileName,outFileName,sampleSize):\n",
    "    reader = csv.reader(open(inFileName,\"r\"))\n",
    "    head = reader.__next__()\n",
    "\n",
    "    data = []\n",
    "    i = 1\n",
    "    for row in reader:\n",
    "        data.append(row)\n",
    "        if i >= sampleSize:\n",
    "            break\n",
    "        i += 1\n",
    "\n",
    "    writeFL = open(outFileName,\"w\")\n",
    "    writer = csv.writer(writeFL)\n",
    "    writer.writerow(head)\n",
    "    for row in data:\n",
    "        writer.writerow(row)\n",
    "    writeFL.close()\n",
    "    \n",
    "    print(\"Wrote %d samples from \"  %i + inFileName + \" to \" + outFileName)\n",
    "    print(\"Has %d attributes\" %len(head))\n",
    "\n",
    "createToyFile(\"../data/train.csv\",\"../data/trainToy.csv\",25000)"
   ]
  },
  {
   "cell_type": "code",
   "execution_count": 4,
   "metadata": {
    "collapsed": false
   },
   "outputs": [],
   "source": [
    "# Read the training data into a Panda data frame    \n",
    "train = pd.read_csv(\"../data/trainToy.csv\")\n",
    "# train = pd.read_csv(\"../data/train.csv\")"
   ]
  },
  {
   "cell_type": "code",
   "execution_count": 5,
   "metadata": {
    "collapsed": true
   },
   "outputs": [],
   "source": [
    "def getNextColumnPd(pandaObj,head):\n",
    "    for attrib in head:\n",
    "        yield pandaObj[attrib]"
   ]
  },
  {
   "cell_type": "code",
   "execution_count": 8,
   "metadata": {
    "collapsed": false
   },
   "outputs": [
    {
     "name": "stdout",
     "output_type": "stream",
     "text": [
      "Percent complete 0.002695\n",
      "Percent complete 0.005391\n",
      "Percent complete 0.008086\n",
      "Percent complete 0.010782\n"
     ]
    },
    {
     "ename": "KeyboardInterrupt",
     "evalue": "",
     "output_type": "error",
     "traceback": [
      "\u001b[0;31m---------------------------------------------------------------------------\u001b[0m",
      "\u001b[0;31mKeyboardInterrupt\u001b[0m                         Traceback (most recent call last)",
      "\u001b[0;32m<ipython-input-8-3ebed2c41b50>\u001b[0m in \u001b[0;36m<module>\u001b[0;34m()\u001b[0m\n\u001b[1;32m      4\u001b[0m \u001b[0mnextCol\u001b[0m \u001b[0;34m=\u001b[0m \u001b[0mgetNextColumnPd\u001b[0m\u001b[0;34m(\u001b[0m\u001b[0mtrain\u001b[0m\u001b[0;34m,\u001b[0m\u001b[0mtrain\u001b[0m\u001b[0;34m.\u001b[0m\u001b[0mcolumns\u001b[0m\u001b[0;34m)\u001b[0m\u001b[0;34m\u001b[0m\u001b[0m\n\u001b[1;32m      5\u001b[0m \u001b[0;32mfor\u001b[0m \u001b[0mi\u001b[0m \u001b[0;32min\u001b[0m \u001b[0mrange\u001b[0m\u001b[0;34m(\u001b[0m\u001b[0mlen\u001b[0m\u001b[0;34m(\u001b[0m\u001b[0mtrain\u001b[0m\u001b[0;34m.\u001b[0m\u001b[0mcolumns\u001b[0m\u001b[0;34m)\u001b[0m\u001b[0;34m)\u001b[0m\u001b[0;34m:\u001b[0m\u001b[0;34m\u001b[0m\u001b[0m\n\u001b[0;32m----> 6\u001b[0;31m     \u001b[0minfoGainPerColn\u001b[0m\u001b[0;34m.\u001b[0m\u001b[0mappend\u001b[0m\u001b[0;34m(\u001b[0m\u001b[0;34m(\u001b[0m\u001b[0mtrain\u001b[0m\u001b[0;34m.\u001b[0m\u001b[0mcolumns\u001b[0m\u001b[0;34m[\u001b[0m\u001b[0mi\u001b[0m\u001b[0;34m]\u001b[0m\u001b[0;34m,\u001b[0m\u001b[0mFS\u001b[0m\u001b[0;34m.\u001b[0m\u001b[0minfoGain\u001b[0m\u001b[0;34m(\u001b[0m\u001b[0mnext\u001b[0m\u001b[0;34m(\u001b[0m\u001b[0mnextCol\u001b[0m\u001b[0;34m)\u001b[0m\u001b[0;34m,\u001b[0m\u001b[0mtrain\u001b[0m\u001b[0;34m.\u001b[0m\u001b[0mTARGET\u001b[0m\u001b[0;34m)\u001b[0m\u001b[0;34m)\u001b[0m\u001b[0;34m)\u001b[0m\u001b[0;34m\u001b[0m\u001b[0m\n\u001b[0m\u001b[1;32m      7\u001b[0m     \u001b[0mcount\u001b[0m \u001b[0;34m+=\u001b[0m \u001b[0;36m1\u001b[0m\u001b[0;34m\u001b[0m\u001b[0m\n\u001b[1;32m      8\u001b[0m     \u001b[0mprint\u001b[0m\u001b[0;34m(\u001b[0m\u001b[0;34m\"Percent complete %f\"\u001b[0m \u001b[0;34m%\u001b[0m\u001b[0;34m(\u001b[0m\u001b[0mcount\u001b[0m\u001b[0;34m/\u001b[0m\u001b[0mlen\u001b[0m\u001b[0;34m(\u001b[0m\u001b[0mtrain\u001b[0m\u001b[0;34m.\u001b[0m\u001b[0mcolumns\u001b[0m\u001b[0;34m)\u001b[0m\u001b[0;34m)\u001b[0m\u001b[0;34m)\u001b[0m\u001b[0;34m\u001b[0m\u001b[0m\n",
      "\u001b[0;32m/Users/sreejithmenon/Google Drive/CS material/Applied AI CS 514/app-ai-projects/FinalProject/script/FeatureSelectionAPI.py\u001b[0m in \u001b[0;36minfoGain\u001b[0;34m(attribute, targetAttribute)\u001b[0m\n\u001b[1;32m     34\u001b[0m         \u001b[0mnextVal\u001b[0m \u001b[0;34m=\u001b[0m \u001b[0mgetNextEle\u001b[0m\u001b[0;34m(\u001b[0m\u001b[0mattribute\u001b[0m\u001b[0;34m)\u001b[0m\u001b[0;34m\u001b[0m\u001b[0m\n\u001b[1;32m     35\u001b[0m         \u001b[0;32mfor\u001b[0m \u001b[0mi\u001b[0m \u001b[0;32min\u001b[0m \u001b[0mrange\u001b[0m\u001b[0;34m(\u001b[0m\u001b[0mlen\u001b[0m\u001b[0;34m(\u001b[0m\u001b[0mattribute\u001b[0m\u001b[0;34m)\u001b[0m\u001b[0;34m)\u001b[0m\u001b[0;34m:\u001b[0m\u001b[0;34m\u001b[0m\u001b[0m\n\u001b[0;32m---> 36\u001b[0;31m             \u001b[0;32mif\u001b[0m \u001b[0mnext\u001b[0m\u001b[0;34m(\u001b[0m\u001b[0mnextVal\u001b[0m\u001b[0;34m)\u001b[0m \u001b[0;34m==\u001b[0m \u001b[0melement\u001b[0m\u001b[0;34m:\u001b[0m\u001b[0;34m\u001b[0m\u001b[0m\n\u001b[0m\u001b[1;32m     37\u001b[0m                 \u001b[0msubset\u001b[0m\u001b[0;34m.\u001b[0m\u001b[0mappend\u001b[0m\u001b[0;34m(\u001b[0m\u001b[0mtargetAttribute\u001b[0m\u001b[0;34m[\u001b[0m\u001b[0mi\u001b[0m\u001b[0;34m]\u001b[0m\u001b[0;34m)\u001b[0m\u001b[0;34m\u001b[0m\u001b[0m\n\u001b[1;32m     38\u001b[0m \u001b[0;34m\u001b[0m\u001b[0m\n",
      "\u001b[0;31mKeyboardInterrupt\u001b[0m: "
     ]
    }
   ],
   "source": [
    "# Calculate information gain for every column in the data set\n",
    "infoGainPerColn = []\n",
    "count = 0\n",
    "nextCol = getNextColumnPd(train,train.columns)\n",
    "for i in range(len(train.columns)):\n",
    "    infoGainPerColn.append((train.columns[i],FS.infoGain(next(nextCol),train.TARGET)))\n",
    "    count += 1\n",
    "    print(\"Percent complete %f\" %(count*100/len(train.columns)))"
   ]
  },
  {
   "cell_type": "code",
   "execution_count": 64,
   "metadata": {
    "collapsed": false
   },
   "outputs": [],
   "source": [
    "# Calculate the average of the information gains\n",
    "# Filter out all the candidate columns with information gain > avg(info_gain)\n",
    "total = 0\n",
    "count = 0\n",
    "\n",
    "for row in infoGainPerColn:\n",
    "    total += row[1]\n",
    "    count += 1\n",
    "\n",
    "average = total/count\n",
    "\n",
    "infoGainPerColnFilteredGtAvg = list(filter(lambda x: x[1] >= average,(sorted(infoGainPerColn,key = lambda infoGainPerColn:infoGainPerColn[1], reverse=True))))\n",
    "candidateCol = [col[0] for col in infoGainPerColnFilteredGtAvg ]"
   ]
  },
  {
   "cell_type": "code",
   "execution_count": 66,
   "metadata": {
    "collapsed": false
   },
   "outputs": [],
   "source": [
    "writeFL = open(\"../data/InfoGainPerColumn.csv\",\"w\")\n",
    "writer = csv.writer(writeFL)\n",
    "for row in infoGainPerColnFilteredGtAvg:\n",
    "    writer.writerow(row)\n",
    "writeFL.close()"
   ]
  },
  {
   "cell_type": "code",
   "execution_count": 67,
   "metadata": {
    "collapsed": false
   },
   "outputs": [],
   "source": [
    "dt = pd.DataFrame(train,columns = candidateCol)\n",
    "dt.to_csv(\"../data/filteredData.csv\")"
   ]
  },
  {
   "cell_type": "code",
   "execution_count": 68,
   "metadata": {
    "collapsed": true
   },
   "outputs": [],
   "source": [
    "test = pd.read_csv(\"../data/test.csv\")\n",
    "df = pd.DataFrame(test,columns = candidateCol)\n",
    "df.to_csv(\"../data/filteredDataTest.csv\")"
   ]
  },
  {
   "cell_type": "code",
   "execution_count": 65,
   "metadata": {
    "collapsed": false
   },
   "outputs": [
    {
     "data": {
      "text/plain": [
       "42"
      ]
     },
     "execution_count": 65,
     "metadata": {},
     "output_type": "execute_result"
    }
   ],
   "source": [
    "len(candidateCol)"
   ]
  },
  {
   "cell_type": "code",
   "execution_count": 7,
   "metadata": {
    "collapsed": false
   },
   "outputs": [
    {
     "data": {
      "text/plain": [
       "'ID'"
      ]
     },
     "execution_count": 7,
     "metadata": {},
     "output_type": "execute_result"
    }
   ],
   "source": [
    "train.columns[0]"
   ]
  },
  {
   "cell_type": "code",
   "execution_count": null,
   "metadata": {
    "collapsed": true
   },
   "outputs": [],
   "source": []
  }
 ],
 "metadata": {
  "kernelspec": {
   "display_name": "Python 3",
   "language": "python",
   "name": "python3"
  },
  "language_info": {
   "codemirror_mode": {
    "name": "ipython",
    "version": 3
   },
   "file_extension": ".py",
   "mimetype": "text/x-python",
   "name": "python",
   "nbconvert_exporter": "python",
   "pygments_lexer": "ipython3",
   "version": "3.5.1"
  }
 },
 "nbformat": 4,
 "nbformat_minor": 0
}
