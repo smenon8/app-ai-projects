{
 "cells": [
  {
   "cell_type": "code",
   "execution_count": 1,
   "metadata": {
    "collapsed": true
   },
   "outputs": [],
   "source": [
    "from sklearn import tree\n",
    "import csv\n",
    "import pandas as pd\n",
    "import matplotlib.pyplot as plt\n",
    "import random\n",
    "import numpy as np\n",
    "from sklearn.metrics import roc_curve, auc\n",
    "from sklearn.cross_validation import train_test_split\n",
    "import math"
   ]
  },
  {
   "cell_type": "code",
   "execution_count": 2,
   "metadata": {
    "collapsed": true
   },
   "outputs": [],
   "source": [
    "# shuffle and split training and test sets\n",
    "def splitTrainTest(splitRatio,fullData):\n",
    "    if not fullData:\n",
    "        dataFull = pd.read_csv(\"../data/filteredData.csv\")\n",
    "    else:\n",
    "        dataFull = pd.read_csv(\"../data/train.csv\")\n",
    "        \n",
    "    header = dataFull.columns\n",
    "    lastIndex = len(header) - 1\n",
    "    \n",
    "    trainDataAttribs = pd.DataFrame(dataFull,columns = header[:lastIndex])\n",
    "    targetVar = pd.DataFrame(dataFull,columns = [header[lastIndex]])\n",
    "    \n",
    "    X_train, X_test, y_train, y_test = train_test_split(trainDataAttribs, targetVar, test_size=splitRatio,random_state=0)\n",
    "    \n",
    "    return X_train, X_test, y_train, y_test"
   ]
  },
  {
   "cell_type": "code",
   "execution_count": 3,
   "metadata": {
    "collapsed": false
   },
   "outputs": [],
   "source": [
    "def treeClassifier(trainTestProp,fullDataParam = False):    \n",
    "    X_train, X_test, y_train, y_test = splitTrainTest(trainTestProp,fullDataParam)\n",
    "\n",
    "    clf = tree.DecisionTreeClassifier()\n",
    "    clf = clf.fit(X_train, y_train)\n",
    "    predictions = clf.predict(X_test)\n",
    "    \n",
    "    # Logic for calculating accuracy\n",
    "    correctPred = 0\n",
    "    for i in range(len(predictions)):\n",
    "        if predictions[i] == y_test.iat[i,0]:\n",
    "            correctPred += 1\n",
    "    accuracy = correctPred * 100/len(predictions)\n",
    "    \n",
    "    \n",
    "    trueNeg = 0\n",
    "    truePos = 0\n",
    "    falsePos = 0\n",
    "    falseNeg = 0\n",
    "    \n",
    "    totalPositives = 0\n",
    "    totalNegatives = 0\n",
    "    for i in range(len(predictions)):\n",
    "        if y_test.iat[i,0] == 1:\n",
    "            totalPositives += 1\n",
    "        else:\n",
    "            totalNegatives += 1\n",
    "            \n",
    "    for i in range(len(predictions)):\n",
    "        # logic for calculating True Negatives\n",
    "        if predictions[i] == y_test.iat[i,0] and predictions[i] == 0:\n",
    "             trueNeg += 1\n",
    "\n",
    "        # logic for calculating True positives        \n",
    "        if predictions[i] == y_test.iat[i,0] and predictions[i] == 1:\n",
    "             truePos += 1\n",
    "        \n",
    "        # logic for calculating False positives        \n",
    "        if predictions[i] != y_test.iat[i,0] and predictions[i] == 1:\n",
    "             falsePos += 1\n",
    "\n",
    "        # logic for calculating False negatives        \n",
    "        if predictions[i] != y_test.iat[i,0] and predictions[i] == 0:\n",
    "             falseNeg += 1\n",
    "      \n",
    "    tpf = truePos/totalPositives\n",
    "    fpf = falsePos/totalPositives\n",
    "    tnf = trueNeg/totalNegatives\n",
    "    fnf = falseNeg/totalNegatives\n",
    "#     print(\"Accuracy %f\" %accuracy)\n",
    "#     print(\"True positives: %d Total positives: %d\" %(truePos,totalPositives))\n",
    "#     print(\"False positives: %d Total positives: %d\" %(falsePos,totalPositives))\n",
    "#     print(\"True negatives: %d Total negatives: %d\" %(trueNeg,totalNegatives))\n",
    "#     print(\"False negatives: %d Total negatives: %d\" %(falseNeg,totalNegatives))\n",
    "    \n",
    "#     print(\"TPF %f\" %tpf)\n",
    "#     print(\"FPF %f\" %fpf)\n",
    "#     print(\"TNF %f\" %tnf)\n",
    "#     print(\"FNF %f\" %fnf) \n",
    "    \n",
    "    return accuracy,tpf,fpf,tnf,fnf"
   ]
  },
  {
   "cell_type": "code",
   "execution_count": 4,
   "metadata": {
    "collapsed": false
   },
   "outputs": [],
   "source": [
    "# after attribute selection\n",
    "TPF = []\n",
    "FPF = []\n",
    "TNF = []\n",
    "FNF = []\n",
    "accuracy = []\n",
    "for i in np.arange(0.1,1,0.1):\n",
    "    acc,tpf,fpf,tnf,fnf = treeClassifier(i)\n",
    "    accuracy.append(acc)\n",
    "    TPF.append(tpf)\n",
    "    FPF.append(fpf)\n",
    "    TNF.append(tnf)\n",
    "    FNF.append(fnf)\n",
    "    \n",
    "# plt.figure(1)\n",
    "# plt.plot(np.arange(0.1,1,0.1),accuracy)"
   ]
  },
  {
   "cell_type": "code",
   "execution_count": 8,
   "metadata": {
    "collapsed": false
   },
   "outputs": [],
   "source": [
    "# calculate the area of a triangle given by points on roc curve\n",
    "areaAll = []\n",
    "\n",
    "for i in range(len(FNF)):\n",
    "    start = (0,0) # A\n",
    "    between = (FNF[i],TNF[i]) # B\n",
    "    end = (1,1) # C\n",
    "\n",
    "    AB = math.sqrt((start[0] - between[0])**2 + (start[1] - between[1])**2)\n",
    "    BC = math.sqrt((end[0] - between[0])**2 + (end[1] - between[1])**2)\n",
    "    AC = math.sqrt((start[0] - end[0])**2 + (start[1] - end[1])**2)\n",
    "\n",
    "    s = (AB + BC + AC) / 2\n",
    "    area = (s*(s-AB)*(s-BC)*(s-AC)) ** 0.5\n",
    "    areaAll.append(area)\n"
   ]
  },
  {
   "cell_type": "code",
   "execution_count": 9,
   "metadata": {
    "collapsed": false
   },
   "outputs": [
    {
     "name": "stdout",
     "output_type": "stream",
     "text": [
      "Current split 10.000000 - 90.000000\n",
      "Accuracy : 92.291502\n",
      "Area under the ROC curve : 0.459692\n",
      "\n",
      "Current split 20.000000 - 80.000000\n",
      "Accuracy : 92.745330\n",
      "Area under the ROC curve : 0.462148\n",
      "\n",
      "Current split 30.000000 - 70.000000\n",
      "Accuracy : 92.747841\n",
      "Area under the ROC curve : 0.462225\n",
      "\n",
      "Current split 40.000000 - 60.000000\n",
      "Accuracy : 92.768350\n",
      "Area under the ROC curve : 0.462316\n",
      "\n",
      "Current split 50.000000 - 50.000000\n",
      "Accuracy : 92.636148\n",
      "Area under the ROC curve : 0.461640\n",
      "\n",
      "Current split 60.000000 - 40.000000\n",
      "Accuracy : 92.802333\n",
      "Area under the ROC curve : 0.462521\n",
      "\n",
      "Current split 70.000000 - 30.000000\n",
      "Accuracy : 92.547214\n",
      "Area under the ROC curve : 0.461202\n",
      "\n",
      "Current split 80.000000 - 20.000000\n",
      "Accuracy : 92.582544\n",
      "Area under the ROC curve : 0.461389\n",
      "\n",
      "Current split 90.000000 - 10.000000\n",
      "Accuracy : 92.370429\n",
      "Area under the ROC curve : 0.460286\n",
      "\n"
     ]
    }
   ],
   "source": [
    "## Print output \n",
    "for i in range(len(accuracy)):\n",
    "    print(\"Current split %f - %f\" %((i*10)+10,(100-i*10)-10))\n",
    "    print(\"Accuracy : %f\" %(accuracy[i]))\n",
    "    print(\"Area under the ROC curve : %f\" %areaAll[i])\n",
    "    print()"
   ]
  },
  {
   "cell_type": "code",
   "execution_count": 16,
   "metadata": {
    "collapsed": false
   },
   "outputs": [],
   "source": [
    "# Accuracy plot\n",
    "x = np.arange(0.1,1,0.1)\n",
    "z = np.polyfit(x,accuracy, 2)\n",
    "f = np.poly1d(z)\n",
    "\n",
    "x_new = np.linspace(x[0], x[-1], 50)\n",
    "y_new = f(x_new)\n",
    "\n",
    "plt.figure(1)\n",
    "plt.plot(x,accuracy,'o')\n",
    "plt.plot(x_new,y_new,lw=2)\n",
    "plt.xlabel(\"Train data - Test data split\")\n",
    "plt.ylabel(\"Accuracy percentage\")\n",
    "plt.title(\"Train-test split versus accuracy, fitted to a 2 degree polynomial curve\")\n",
    "\n",
    "# Plot for negative estimations\n",
    "z = np.polyfit(FNF, TNF, 2)\n",
    "f = np.poly1d(z)\n",
    "\n",
    "x_new = np.linspace(FNF[0], FNF[-1], 50)\n",
    "y_new = f(x_new)\n",
    "\n",
    "plt.figure(2)\n",
    "plt.plot(FNF,TNF,'o')\n",
    "plt.xlabel(\"False Unsatisfied Customer Fraction\")\n",
    "plt.ylabel(\"True Unsatisfied Customer Fraction\")\n",
    "plt.title(\"ROC curve candidate points for all Unsatisfied Customers\")\n",
    "\n",
    "plt.figure(3)\n",
    "plt.plot(FNF,TNF,'o', x_new, y_new)\n",
    "plt.plot([0, x_new[49]], [0,y_new[49]],lw=2)\n",
    "plt.plot([x_new[0],1],[y_new[0],1], lw=2)\n",
    "plt.plot([0, 0.5,1],[0, 0.5,1], lw=2)\n",
    "plt.xlabel(\"False Unsatisfied Customer Fraction\")\n",
    "plt.ylabel(\"True Unsatisfied Customer Fraction\")\n",
    "plt.title(\"ROC curve - representational area under the curve, zoom to the top left to see all points\")\n",
    "\n",
    "# # Plot for positive estimations\n",
    "# z = np.polyfit(FPF, TPF, 2)\n",
    "# f = np.poly1d(z)\n",
    "\n",
    "# x_new = np.linspace(FPF[0], FPF[-1], 50)\n",
    "# y_new = f(x_new)\n",
    "\n",
    "# plt.figure(3)\n",
    "# plt.plot(FNF,TNF,'o', x_new, y_new)\n",
    "# plt.plot([0, x_new[49]], [0,y_new[49]],lw=2)\n",
    "# plt.plot([x_new[0],1],[y_new[0],1], lw=2)\n",
    "# plt.plot([0, 0.5,1],[0, 0.5,1], lw=2)\n",
    "\n",
    "plt.show()"
   ]
  },
  {
   "cell_type": "code",
   "execution_count": null,
   "metadata": {
    "collapsed": true
   },
   "outputs": [],
   "source": []
  }
 ],
 "metadata": {
  "kernelspec": {
   "display_name": "Python 3",
   "language": "python",
   "name": "python3"
  },
  "language_info": {
   "codemirror_mode": {
    "name": "ipython",
    "version": 3
   },
   "file_extension": ".py",
   "mimetype": "text/x-python",
   "name": "python",
   "nbconvert_exporter": "python",
   "pygments_lexer": "ipython3",
   "version": "3.5.1"
  }
 },
 "nbformat": 4,
 "nbformat_minor": 0
}
