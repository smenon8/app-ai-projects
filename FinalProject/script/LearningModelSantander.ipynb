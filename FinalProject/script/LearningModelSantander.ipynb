{
 "cells": [
  {
   "cell_type": "code",
   "execution_count": 2,
   "metadata": {
    "collapsed": true
   },
   "outputs": [],
   "source": [
    "from sklearn import tree\n",
    "import csv\n",
    "import pandas as pd\n",
    "import matplotlib.pyplot as plt\n",
    "import random\n",
    "import numpy as np\n",
    "from sklearn.metrics import roc_curve, auc\n",
    "from sklearn.cross_validation import train_test_split\n",
    "import math"
   ]
  },
  {
   "cell_type": "code",
   "execution_count": 3,
   "metadata": {
    "collapsed": true
   },
   "outputs": [],
   "source": [
    "# shuffle and split training and test sets\n",
    "def splitTrainTest(splitRatio,fullData):\n",
    "    if not fullData:\n",
    "        dataFull = pd.read_csv(\"../data/filteredData.csv\")\n",
    "    else:\n",
    "        dataFull = pd.read_csv(\"../data/train.csv\")\n",
    "        \n",
    "    header = dataFull.columns\n",
    "    lastIndex = len(header) - 1\n",
    "    \n",
    "    trainDataAttribs = pd.DataFrame(dataFull,columns = header[:lastIndex])\n",
    "    targetVar = pd.DataFrame(dataFull,columns = [header[lastIndex]])\n",
    "    \n",
    "    X_train, X_test, y_train, y_test = train_test_split(trainDataAttribs, targetVar, test_size=splitRatio,random_state=0)\n",
    "    \n",
    "    return X_train, X_test, y_train, y_test"
   ]
  },
  {
   "cell_type": "code",
   "execution_count": 4,
   "metadata": {
    "collapsed": false
   },
   "outputs": [],
   "source": [
    "def treeClassifier(trainTestProp,fullDataParam = False):    \n",
    "    X_train, X_test, y_train, y_test = splitTrainTest(trainTestProp,fullDataParam)\n",
    "\n",
    "    clf = tree.DecisionTreeClassifier()\n",
    "    clf = clf.fit(X_train, y_train)\n",
    "    predictions = clf.predict(X_test)\n",
    "    \n",
    "    # Logic for calculating accuracy\n",
    "    correctPred = 0\n",
    "    for i in range(len(predictions)):\n",
    "        if predictions[i] == y_test.iat[i,0]:\n",
    "            correctPred += 1\n",
    "    accuracy = correctPred * 100/len(predictions)\n",
    "    \n",
    "    \n",
    "    trueNeg = 0\n",
    "    truePos = 0\n",
    "    falsePos = 0\n",
    "    falseNeg = 0\n",
    "    \n",
    "    totalPositives = 0\n",
    "    totalNegatives = 0\n",
    "    for i in range(len(predictions)):\n",
    "        if y_test.iat[i,0] == 1:\n",
    "            totalPositives += 1\n",
    "        else:\n",
    "            totalNegatives += 1\n",
    "            \n",
    "    for i in range(len(predictions)):\n",
    "        # logic for calculating True Negatives\n",
    "        if predictions[i] == y_test.iat[i,0] and predictions[i] == 0:\n",
    "             trueNeg += 1\n",
    "\n",
    "        # logic for calculating True positives        \n",
    "        if predictions[i] == y_test.iat[i,0] and predictions[i] == 1:\n",
    "             truePos += 1\n",
    "        \n",
    "        # logic for calculating False positives        \n",
    "        if predictions[i] != y_test.iat[i,0] and predictions[i] == 1:\n",
    "             falsePos += 1\n",
    "\n",
    "        # logic for calculating False negatives        \n",
    "        if predictions[i] != y_test.iat[i,0] and predictions[i] == 0:\n",
    "             falseNeg += 1\n",
    "      \n",
    "    tpf = truePos/totalPositives\n",
    "    fpf = falsePos/totalPositives\n",
    "    tnf = trueNeg/totalNegatives\n",
    "    fnf = falseNeg/totalNegatives\n",
    "#     print(\"Accuracy %f\" %accuracy)\n",
    "#     print(\"True positives: %d Total positives: %d\" %(truePos,totalPositives))\n",
    "#     print(\"False positives: %d Total positives: %d\" %(falsePos,totalPositives))\n",
    "#     print(\"True negatives: %d Total negatives: %d\" %(trueNeg,totalNegatives))\n",
    "#     print(\"False negatives: %d Total negatives: %d\" %(falseNeg,totalNegatives))\n",
    "    \n",
    "#     print(\"TPF %f\" %tpf)\n",
    "#     print(\"FPF %f\" %fpf)\n",
    "#     print(\"TNF %f\" %tnf)\n",
    "#     print(\"FNF %f\" %fnf) \n",
    "    \n",
    "    return accuracy,tpf,fpf,tnf,fnf"
   ]
  },
  {
   "cell_type": "code",
   "execution_count": 5,
   "metadata": {
    "collapsed": false
   },
   "outputs": [],
   "source": [
    "# after attribute selection\n",
    "TPF = []\n",
    "FPF = []\n",
    "TNF = []\n",
    "FNF = []\n",
    "accuracy = []\n",
    "for i in np.arange(0.1,1,0.1):\n",
    "    acc,tpf,fpf,tnf,fnf = treeClassifier(i)\n",
    "    accuracy.append(acc)\n",
    "    TPF.append(tpf)\n",
    "    FPF.append(fpf)\n",
    "    TNF.append(tnf)\n",
    "    FNF.append(fnf)\n",
    "    \n",
    "# plt.figure(1)\n",
    "# plt.plot(np.arange(0.1,1,0.1),accuracy)"
   ]
  },
  {
   "cell_type": "code",
   "execution_count": 12,
   "metadata": {
    "collapsed": false
   },
   "outputs": [],
   "source": [
    "# Accuracy plot\n",
    "x = np.arange(0.1,1,0.1)\n",
    "z = np.polyfit(x,accuracy, 2)\n",
    "f = np.poly1d(z)\n",
    "\n",
    "x_new = np.linspace(x[0], x[-1], 50)\n",
    "y_new = f(x_new)\n",
    "\n",
    "plt.figure(1)\n",
    "plt.plot(x,accuracy,'o')\n",
    "plt.plot(x_new,y_new,lw=2)\n",
    "\n",
    "# Plot for negative estimations\n",
    "z = np.polyfit(FNF, TNF, 2)\n",
    "f = np.poly1d(z)\n",
    "\n",
    "x_new = np.linspace(FNF[0], FNF[-1], 50)\n",
    "y_new = f(x_new)\n",
    "\n",
    "plt.figure(2)\n",
    "plt.plot(FNF,TNF,'o', x_new, y_new)\n",
    "plt.plot([0, x_new[49]], [0,y_new[49]],lw=2)\n",
    "plt.plot([x_new[0],1],[y_new[0],1], lw=2)\n",
    "plt.plot([0, 0.5,1],[0, 0.5,1], lw=2)\n",
    "\n",
    "# Plot for positive estimations\n",
    "z = np.polyfit(FPF, TPF, 2)\n",
    "f = np.poly1d(z)\n",
    "\n",
    "x_new = np.linspace(FPF[0], FPF[-1], 50)\n",
    "y_new = f(x_new)\n",
    "\n",
    "plt.figure(3)\n",
    "plt.plot(FNF,TNF,'o', x_new, y_new)\n",
    "plt.plot([0, x_new[49]], [0,y_new[49]],lw=2)\n",
    "plt.plot([x_new[0],1],[y_new[0],1], lw=2)\n",
    "plt.plot([0, 0.5,1],[0, 0.5,1], lw=2)\n",
    "\n",
    "plt.show()"
   ]
  },
  {
   "cell_type": "code",
   "execution_count": 23,
   "metadata": {
    "collapsed": false
   },
   "outputs": [
    {
     "name": "stdout",
     "output_type": "stream",
     "text": [
      "0.4610029380873218\n",
      "0.4611272866824894\n",
      "0.4612459706484743\n",
      "0.4613589899852766\n",
      "0.4614663446928974\n",
      "0.46156803477133546\n",
      "0.4616640602205914\n",
      "0.4617544210406646\n",
      "0.4618391172315557\n",
      "0.4619181487932646\n",
      "0.4619915157257915\n",
      "0.4620592180291351\n",
      "0.4621212557032975\n",
      "0.4621776287482768\n",
      "0.4622283371640744\n",
      "0.46227338095068904\n",
      "0.4623127601081223\n",
      "0.46234647463637235\n",
      "0.46237452453544026\n",
      "0.4623969098053263\n",
      "0.46241363044602957\n",
      "0.46242468645755075\n",
      "0.4624300778398898\n",
      "0.46242980459304633\n",
      "0.4624238667170205\n",
      "0.4624122642118124\n",
      "0.4623949970774223\n",
      "0.46237206531384956\n",
      "0.4623434689210948\n",
      "0.46230920789915747\n",
      "0.4622692822480378\n",
      "0.4622236919677359\n",
      "0.46217243705825156\n",
      "0.4621155175195853\n",
      "0.46205293335173664\n",
      "0.461984684554705\n",
      "0.4619107711284917\n",
      "0.4618311930730961\n",
      "0.46174595038851807\n",
      "0.4616550430747577\n",
      "0.461558471131815\n",
      "0.4614562345596906\n",
      "0.46134833335838316\n",
      "0.4612347675278936\n",
      "0.46111553706822184\n",
      "0.4609906419793677\n",
      "0.46086008226133096\n",
      "0.4607238579141119\n",
      "0.4605819689377109\n"
     ]
    }
   ],
   "source": [
    "# calculate the area of a triangle given by points on roc curve\n",
    "for i in range(1,50):\n",
    "    start = (0,0) # A\n",
    "    between = (x_new[i],y_new[i]) # B\n",
    "    end = (1,1) # C\n",
    "\n",
    "    AB = math.sqrt((start[0] - between[0])**2 + (start[1] - between[1])**2)\n",
    "    BC = math.sqrt((end[0] - between[0])**2 + (end[1] - between[1])**2)\n",
    "    AC = math.sqrt((start[0] - end[0])**2 + (start[1] - end[1])**2)\n",
    "\n",
    "    s = (AB + BC + AC) / 2\n",
    "    area = (s*(s-AB)*(s-BC)*(s-AC)) ** 0.5\n",
    "    print(area)"
   ]
  },
  {
   "cell_type": "code",
   "execution_count": 11,
   "metadata": {
    "collapsed": false
   },
   "outputs": [],
   "source": [
    "\n",
    "plt.show()"
   ]
  },
  {
   "cell_type": "code",
   "execution_count": null,
   "metadata": {
    "collapsed": true
   },
   "outputs": [],
   "source": []
  }
 ],
 "metadata": {
  "kernelspec": {
   "display_name": "Python 3",
   "language": "python",
   "name": "python3"
  },
  "language_info": {
   "codemirror_mode": {
    "name": "ipython",
    "version": 3
   },
   "file_extension": ".py",
   "mimetype": "text/x-python",
   "name": "python",
   "nbconvert_exporter": "python",
   "pygments_lexer": "ipython3",
   "version": "3.5.1"
  }
 },
 "nbformat": 4,
 "nbformat_minor": 0
}
